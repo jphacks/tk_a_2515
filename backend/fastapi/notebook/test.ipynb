{
 "cells": [
  {
   "cell_type": "markdown",
   "id": "2b62eca4",
   "metadata": {
    "vscode": {
     "languageId": "julia"
    }
   },
   "source": [
    "# データベース確認サンプル\n",
    "\n",
    "このノートブックではデータベースの中身を確認する方法を示します。"
   ]
  },
  {
   "cell_type": "code",
   "execution_count": null,
   "id": "a301da3c",
   "metadata": {},
   "outputs": [],
   "source": [
    "# 必要なライブラリのインポート\n",
    "import sys\n",
    "import os\n",
    "from pathlib import Path\n",
    "\n",
    "# fastapiディレクトリをPythonパスに追加\n",
    "sys.path.insert(0, str(Path.cwd().parent))\n",
    "\n",
    "import pandas as pd\n",
    "from sqlalchemy import text\n",
    "from database import SessionLocal, engine\n",
    "from models.user import User\n",
    "from models.mountain import Mountain, Type, Prefecture\n",
    "from models.path import Path, PathGeometry, PathTag"
   ]
  },
  {
   "cell_type": "code",
   "execution_count": null,
   "id": "zcfvsj5azqr",
   "metadata": {},
   "outputs": [],
   "source": [
    "# SQLクエリで直接データを取得\n",
    "query = \"\"\"\n",
    "SELECT \n",
    "    m.name,\n",
    "    m.elevation,\n",
    "    p.name as prefecture\n",
    "FROM mountains m\n",
    "LEFT JOIN mountain_prefectures mp ON m.id = mp.mountain_id\n",
    "LEFT JOIN prefectures p ON mp.prefecture_id = p.id\n",
    "ORDER BY m.elevation DESC NULLS LAST\n",
    "LIMIT 10;\n",
    "\"\"\"\n",
    "\n",
    "df = pd.read_sql(query, engine)\n",
    "print(\"標高が高い山トップ10:\")\n",
    "print(df)"
   ]
  },
  {
   "cell_type": "code",
   "execution_count": null,
   "id": "5ix6nr1mtle",
   "metadata": {},
   "outputs": [],
   "source": [
    "# カスタムクエリを実行するヘルパー関数\n",
    "def query_to_df(query_string):\n",
    "    \"\"\"SQLクエリを実行してDataFrameを返す\"\"\"\n",
    "    return pd.read_sql(query_string, engine)\n",
    "\n",
    "def show_table_info(table_name):\n",
    "    \"\"\"テーブルの構造とサンプルデータを表示\"\"\"\n",
    "    # カラム情報を取得\n",
    "    query = f\"\"\"\n",
    "    SELECT \n",
    "        column_name,\n",
    "        data_type,\n",
    "        is_nullable\n",
    "    FROM information_schema.columns\n",
    "    WHERE table_name = '{table_name}'\n",
    "    ORDER BY ordinal_position;\n",
    "    \"\"\"\n",
    "    print(f\"テーブル: {table_name}\")\n",
    "    print(\"\\nカラム情報:\")\n",
    "    print(query_to_df(query))\n",
    "    \n",
    "    # サンプルデータを表示\n",
    "    print(f\"\\nサンプルデータ（最初の5件）:\")\n",
    "    sample_query = f\"SELECT * FROM {table_name} LIMIT 5;\"\n",
    "    print(query_to_df(sample_query))\n",
    "\n",
    "# 使用例\n",
    "# show_table_info('mountains')"
   ]
  },
  {
   "cell_type": "markdown",
   "id": "cxtjhk8vrkr",
   "metadata": {},
   "source": [
    "## 8. カスタムクエリ用のヘルパー関数"
   ]
  },
  {
   "cell_type": "markdown",
   "id": "i3nkackdft",
   "metadata": {},
   "source": [
    "## 7. SQLクエリを直接実行する例"
   ]
  },
  {
   "cell_type": "code",
   "execution_count": null,
   "id": "qltriquztbf",
   "metadata": {},
   "outputs": [],
   "source": [
    "# 特定のPathの詳細情報を取得\n",
    "db = SessionLocal()\n",
    "try:\n",
    "    path = db.query(Path).first()\n",
    "    \n",
    "    if path:\n",
    "        print(f\"Path ID: {path.id}\")\n",
    "        print(f\"OSM ID: {path.osm_id}\")\n",
    "        print(f\"Type: {path.type}\")\n",
    "        print(f\"\\nタグ情報:\")\n",
    "        for tag in path.tags:\n",
    "            print(f\"  - highway: {tag.highway}, source: {tag.source}\")\n",
    "        \n",
    "        print(f\"\\n座標データ（最初の10件）:\")\n",
    "        df_geometries = pd.DataFrame([\n",
    "            {\n",
    "                'node_id': g.node_id,\n",
    "                'lat': g.lat,\n",
    "                'lon': g.lon,\n",
    "                'sequence': g.sequence,\n",
    "            }\n",
    "            for g in path.geometries[:10]\n",
    "        ])\n",
    "        print(df_geometries)\n",
    "    else:\n",
    "        print(\"Pathデータが存在しません\")\n",
    "finally:\n",
    "    db.close()"
   ]
  },
  {
   "cell_type": "markdown",
   "id": "h0cxkxd67l",
   "metadata": {},
   "source": [
    "## 6. Pathの座標データとタグ情報を確認"
   ]
  },
  {
   "cell_type": "code",
   "execution_count": null,
   "id": "7wcxbvgeplr",
   "metadata": {},
   "outputs": [],
   "source": [
    "# Pathsテーブルの最初の5件を取得\n",
    "db = SessionLocal()\n",
    "try:\n",
    "    paths = db.query(Path).limit(5).all()\n",
    "    \n",
    "    df_paths = pd.DataFrame([\n",
    "        {\n",
    "            'id': p.id,\n",
    "            'osm_id': p.osm_id,\n",
    "            'type': p.type,\n",
    "            'minlat': p.minlat,\n",
    "            'minlon': p.minlon,\n",
    "            'maxlat': p.maxlat,\n",
    "            'maxlon': p.maxlon,\n",
    "        }\n",
    "        for p in paths\n",
    "    ])\n",
    "    \n",
    "    print(df_paths)\n",
    "finally:\n",
    "    db.close()"
   ]
  },
  {
   "cell_type": "markdown",
   "id": "8rs2mr9wuwj",
   "metadata": {},
   "source": [
    "## 5. Pathsテーブルのデータを確認"
   ]
  },
  {
   "cell_type": "code",
   "execution_count": null,
   "id": "ze410qexqp",
   "metadata": {},
   "outputs": [],
   "source": [
    "# リレーションを含む山の情報を取得\n",
    "db = SessionLocal()\n",
    "try:\n",
    "    mountains = db.query(Mountain).limit(5).all()\n",
    "    \n",
    "    for mountain in mountains:\n",
    "        print(f\"\\n{'='*60}\")\n",
    "        print(f\"山名: {mountain.name} ({mountain.yomi})\")\n",
    "        print(f\"標高: {mountain.elevation}m\")\n",
    "        print(f\"座標: ({mountain.lat}, {mountain.lon})\")\n",
    "        \n",
    "        # 関連する都道府県を表示\n",
    "        if mountain.prefectures:\n",
    "            prefs = ', '.join([p.name for p in mountain.prefectures])\n",
    "            print(f\"都道府県: {prefs}\")\n",
    "        \n",
    "        # 関連するタイプを表示\n",
    "        if mountain.types:\n",
    "            types = ', '.join([t.name for t in mountain.types])\n",
    "            print(f\"タイプ: {types}\")\n",
    "finally:\n",
    "    db.close()"
   ]
  },
  {
   "cell_type": "markdown",
   "id": "f55dq29o6ko",
   "metadata": {},
   "source": [
    "## 4. 山の情報とリレーションを確認（Type, Prefecture含む）"
   ]
  },
  {
   "cell_type": "code",
   "execution_count": null,
   "id": "ssywgu2bgj",
   "metadata": {},
   "outputs": [],
   "source": [
    "# Mountainsテーブルの最初の10件を取得\n",
    "db = SessionLocal()\n",
    "try:\n",
    "    mountains = db.query(Mountain).limit(10).all()\n",
    "    \n",
    "    # pandasのDataFrameに変換\n",
    "    df_mountains = pd.DataFrame([\n",
    "        {\n",
    "            'id': m.id,\n",
    "            'name': m.name,\n",
    "            'yomi': m.yomi,\n",
    "            'elevation': m.elevation,\n",
    "            'lat': m.lat,\n",
    "            'lon': m.lon,\n",
    "            'area': m.area,\n",
    "        }\n",
    "        for m in mountains\n",
    "    ])\n",
    "    \n",
    "    print(df_mountains)\n",
    "finally:\n",
    "    db.close()"
   ]
  },
  {
   "cell_type": "markdown",
   "id": "0q4hp2dwzdr",
   "metadata": {},
   "source": [
    "## 3. Mountainsテーブルのデータを確認"
   ]
  },
  {
   "cell_type": "code",
   "execution_count": null,
   "id": "kec2m24s1zc",
   "metadata": {},
   "outputs": [],
   "source": [
    "db = SessionLocal()\n",
    "try:\n",
    "    counts = {\n",
    "        'users': db.query(User).count(),\n",
    "        'mountains': db.query(Mountain).count(),\n",
    "        'types': db.query(Type).count(),\n",
    "        'prefectures': db.query(Prefecture).count(),\n",
    "        'paths': db.query(Path).count(),\n",
    "        'path_geometries': db.query(PathGeometry).count(),\n",
    "        'path_tags': db.query(PathTag).count(),\n",
    "    }\n",
    "    \n",
    "    df_counts = pd.DataFrame(list(counts.items()), columns=['テーブル名', 'レコード数'])\n",
    "    print(df_counts)\n",
    "finally:\n",
    "    db.close()"
   ]
  },
  {
   "cell_type": "markdown",
   "id": "l6ttfshwog",
   "metadata": {},
   "source": [
    "## 2. 各テーブルのレコード数を確認"
   ]
  },
  {
   "cell_type": "code",
   "execution_count": null,
   "id": "5kzn8ilcb83",
   "metadata": {},
   "outputs": [],
   "source": [
    "# データベース接続を確認\n",
    "db = SessionLocal()\n",
    "try:\n",
    "    result = db.execute(text(\"SELECT version();\"))\n",
    "    version = result.scalar()\n",
    "    print(f\"PostgreSQL version: {version}\")\n",
    "finally:\n",
    "    db.close()"
   ]
  },
  {
   "cell_type": "markdown",
   "id": "50jl3sffjw5",
   "metadata": {},
   "source": [
    "## 1. データベース接続の確認"
   ]
  }
 ],
 "metadata": {
  "language_info": {
   "name": "python"
  }
 },
 "nbformat": 4,
 "nbformat_minor": 5
}
